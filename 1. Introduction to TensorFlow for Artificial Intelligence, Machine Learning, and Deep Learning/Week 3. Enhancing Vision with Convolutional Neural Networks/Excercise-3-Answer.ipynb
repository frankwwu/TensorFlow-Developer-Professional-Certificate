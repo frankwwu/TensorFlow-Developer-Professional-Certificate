{
 "cells": [
  {
   "cell_type": "markdown",
   "metadata": {
    "colab_type": "text",
    "id": "iQjHqsmTAVLU"
   },
   "source": [
    "## Exercise 3\n",
    "In the videos you looked at how you would improve Fashion MNIST using Convolutions. For your exercise see if you can improve MNIST to 99.8% accuracy or more using only a single convolutional layer and a single MaxPooling 2D. You should stop training once the accuracy goes above this amount. It should happen in less than 20 epochs, so it's ok to hard code the number of epochs for training, but your training must end once it hits the above metric. If it doesn't, then you'll need to redesign your layers.\n",
    "\n",
    "I've started the code for you -- you need to finish it!\n",
    "\n",
    "When 99.8% accuracy has been hit, you should print out the string \"Reached 99.8% accuracy so cancelling training!\"\n"
   ]
  },
  {
   "cell_type": "code",
   "execution_count": 1,
   "metadata": {},
   "outputs": [],
   "source": [
    "import tensorflow as tf\n",
    "from os import path, getcwd, chdir\n",
    "\n",
    "# DO NOT CHANGE THE LINE BELOW. If you are developing in a local\n",
    "# environment, then grab mnist.npz from the Coursera Jupyter Notebook\n",
    "# and place it inside a local folder and edit the path to that location\n",
    "path = f\"{getcwd()}/../tmp2/mnist.npz\""
   ]
  },
  {
   "cell_type": "code",
   "execution_count": 2,
   "metadata": {},
   "outputs": [],
   "source": [
    "config = tf.compat.v1.ConfigProto()\n",
    "config.gpu_options.allow_growth = True\n",
    "sess = tf.compat.v1.Session(config=config)"
   ]
  },
  {
   "cell_type": "code",
   "execution_count": 3,
   "metadata": {},
   "outputs": [],
   "source": [
    "# GRADED FUNCTION: train_mnist_conv\n",
    "def train_mnist_conv():\n",
    "    # Please write your code only where you are indicated.\n",
    "    # please do not remove model fitting inline comments.\n",
    "\n",
    "    # YOUR CODE STARTS HERE\n",
    "    epochs = 20\n",
    "    min_acc = 0.998\n",
    "    acc_string = \"\\nReached 99.8% accuracy so cancelling training!\"\n",
    "    class Callback(tf.keras.callbacks.Callback):\n",
    "        def on_epoch_end(self, epoch, log={}):\n",
    "            if(log.get(\"accuracy\")> min_acc):\n",
    "                print(acc_string)\n",
    "                self.model.stop_training = True  \n",
    "                \n",
    "    callback = Callback()\n",
    "    # YOUR CODE ENDS HERE\n",
    "\n",
    "    mnist = tf.keras.datasets.mnist\n",
    "    (training_images, training_labels), (test_images, test_labels) = mnist.load_data(path=path)\n",
    "    # YOUR CODE STARTS HERE\n",
    "    training_images = training_images.reshape(60000, 28, 28, 1)\n",
    "    test_images = test_images.reshape(10000, 28, 28, 1)   \n",
    "    training_images = training_images / 255\n",
    "    test_images = test_images / 255\n",
    "    # YOUR CODE ENDS HERE\n",
    "\n",
    "    model = tf.keras.models.Sequential([\n",
    "        # YOUR CODE STARTS HERE\n",
    "        tf.keras.layers.Conv2D(filters = 32, kernel_size = (3,3), \n",
    "                               activation = 'relu', input_shape = (28,28,1)), \n",
    "        tf.keras.layers.MaxPool2D(pool_size = (2,2)),\n",
    "        tf.keras.layers.Flatten(), # input layer - don´t need to specify\n",
    "        tf.keras.layers.Dense(units = 128, activation = \"relu\"), # hidden layer\n",
    "        tf.keras.layers.Dense(units = 10, activation = \"softmax\") # output layer - 10 categories        \n",
    "        # YOUR CODE ENDS HERE\n",
    "    ])\n",
    "\n",
    "    model.compile(optimizer='adam', loss='sparse_categorical_crossentropy', metrics=['accuracy'])\n",
    "    # model fitting\n",
    "    history = model.fit(\n",
    "        # YOUR CODE STARTS HERE\n",
    "        x = training_images,\n",
    "        y = training_labels,\n",
    "        epochs = epochs,\n",
    "        callbacks = [callback]\n",
    "        # YOUR CODE ENDS HERE\n",
    "    )\n",
    "    # model fitting\n",
    "    return history.epoch, history.history['accuracy'][-1]\n",
    "\n"
   ]
  },
  {
   "cell_type": "code",
   "execution_count": 4,
   "metadata": {},
   "outputs": [
    {
     "name": "stdout",
     "output_type": "stream",
     "text": [
      "Epoch 1/20\n",
      "1875/1875 [==============================] - 36s 19ms/step - loss: 0.1534 - accuracy: 0.9542\n",
      "Epoch 2/20\n",
      "1875/1875 [==============================] - 34s 18ms/step - loss: 0.0519 - accuracy: 0.9839\n",
      "Epoch 3/20\n",
      "1875/1875 [==============================] - 35s 19ms/step - loss: 0.0323 - accuracy: 0.9898\n",
      "Epoch 4/20\n",
      "1875/1875 [==============================] - 41s 22ms/step - loss: 0.0216 - accuracy: 0.9932\n",
      "Epoch 5/20\n",
      "1875/1875 [==============================] - 34s 18ms/step - loss: 0.0150 - accuracy: 0.9950\n",
      "Epoch 6/20\n",
      "1875/1875 [==============================] - 33s 17ms/step - loss: 0.0113 - accuracy: 0.99630s - loss: 0.0113 - accuracy: 0.\n",
      "Epoch 7/20\n",
      "1875/1875 [==============================] - 33s 17ms/step - loss: 0.0085 - accuracy: 0.9971\n",
      "Epoch 8/20\n",
      "1875/1875 [==============================] - 33s 18ms/step - loss: 0.0064 - accuracy: 0.9979\n",
      "Epoch 9/20\n",
      "1874/1875 [============================>.] - ETA: 0s - loss: 0.0055 - accuracy: 0.9983\n",
      "Reached 99.8% accuracy so cancelling training!\n",
      "1875/1875 [==============================] - 34s 18ms/step - loss: 0.0055 - accuracy: 0.9983\n"
     ]
    }
   ],
   "source": [
    "_, _ = train_mnist_conv()"
   ]
  }
 ],
 "metadata": {
  "coursera": {
   "course_slug": "introduction-tensorflow",
   "graded_item_id": "ml06H",
   "launcher_item_id": "hQF8A"
  },
  "kernelspec": {
   "display_name": "Python 3",
   "language": "python",
   "name": "python3"
  },
  "language_info": {
   "codemirror_mode": {
    "name": "ipython",
    "version": 3
   },
   "file_extension": ".py",
   "mimetype": "text/x-python",
   "name": "python",
   "nbconvert_exporter": "python",
   "pygments_lexer": "ipython3",
   "version": "3.7.6"
  }
 },
 "nbformat": 4,
 "nbformat_minor": 1
}
